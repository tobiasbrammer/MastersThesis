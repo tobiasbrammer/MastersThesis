{
 "cells": [
  {
   "cell_type": "markdown",
   "source": [],
   "metadata": {
    "collapsed": false
   },
   "id": "941df59c7c1a1c2a"
  },
  {
   "cell_type": "code",
   "execution_count": 1,
   "id": "initial_id",
   "metadata": {
    "collapsed": true,
    "ExecuteTime": {
     "end_time": "2024-02-07T19:18:53.544871Z",
     "start_time": "2024-02-07T19:18:50.036984Z"
    }
   },
   "outputs": [],
   "source": [
    "import polars as pl\n",
    "import matplotlib.pyplot as plt\n",
    "import seaborn as sns \n",
    "from upload_overleaf.upload import upload\n",
    "import tensorflow as tf"
   ]
  },
  {
   "cell_type": "code",
   "outputs": [
    {
     "name": "stdout",
     "output_type": "stream",
     "text": [
      "TensorFlow has access to the following devices:\n",
      "[PhysicalDevice(name='/physical_device:CPU:0', device_type='CPU')]\n"
     ]
    }
   ],
   "source": [
    "print(f'TensorFlow has access to the following devices:\\n{tf.config.list_physical_devices()}')"
   ],
   "metadata": {
    "collapsed": false,
    "ExecuteTime": {
     "end_time": "2024-02-07T18:18:24.436316Z",
     "start_time": "2024-02-07T18:18:24.422674Z"
    }
   },
   "id": "c741018e3ed6edf1",
   "execution_count": 15
  },
  {
   "cell_type": "markdown",
   "source": [
    "The following cell reads the parquet files created by raw2parquet.py. \n",
    "\n",
    "It joins the prices and coacs tables on the ticker and date columns. It also creates a new column called OldNoOfStocks, which is the number of stocks before the stock split/dividend. If there is not a match in the coacs table, the OldNoOfStocks is set to 1. The StockOpen, StockHigh, StockLow, and StockClose columns are multiplied with OldNoOfStocks to get the adjusted price.\n",
    "\n",
    "It applies the log transformation to the adjusted prices, and the calculates the log return for each ticker. The log return is calculated for the following time intervals: 1, 5, 10, 30, 60, 120, 240, and 390 minutes. "
   ],
   "metadata": {
    "collapsed": false
   },
   "id": "589b20038a8ad9de"
  },
  {
   "cell_type": "code",
   "outputs": [],
   "source": [
    "lf_intraday = (\n",
    "    pl.scan_parquet('prices.parquet')\n",
    "    .join(pl.scan_parquet('coacs.parquet').select(['ticker','date','OldNoOfStocks']), on=['ticker', 'date'], how='left')\n",
    "    # If there is not a match in the coacs table, the OldNoOfStocks is set to 1.\n",
    "    .with_columns(pl.when(pl.col('OldNoOfStocks').is_null()).then(1).otherwise(pl.col('OldNoOfStocks')).alias('OldNoOfStocks'))\n",
    "    # Multiply StockOpen, StockHigh, StockLow, and StockClose with OldNoOfStocks to get the adjusted price\n",
    "    .with_columns([\n",
    "        pl.col('StockClose') * pl.col('OldNoOfStocks').alias('StockClose')\n",
    "    ])\n",
    "    .with_columns([\n",
    "        pl.col('ticker'),\n",
    "        pl.col('date').alias('date'),\n",
    "        pl.col('datetime').alias('datetime'),\n",
    "        pl.col('StockClose').log().alias('log_close'),\n",
    "        pl.col('StockVol').alias('volume')\n",
    "    ])\n",
    "    .sort(['ticker', 'datetime'])\n",
    "    .select([\n",
    "        'ticker',\n",
    "        'date',\n",
    "        'datetime',\n",
    "        'log_close',\n",
    "        'volume',\n",
    "        (pl.col('log_close') - pl.col('log_close').shift(1)).over(pl.col('ticker')).alias('return_1min'),\n",
    "        (pl.col('log_close') - pl.col('log_close').shift(5)).over(pl.col('ticker')).alias('return_5min'),\n",
    "        (pl.col('log_close') - pl.col('log_close').shift(10)).over(pl.col('ticker')).alias('return_10min'),\n",
    "        (pl.col('log_close') - pl.col('log_close').shift(30)).over(pl.col('ticker')).alias('return_30min'),\n",
    "        (pl.col('log_close') - pl.col('log_close').shift(60)).over(pl.col('ticker')).alias('return_1h'),\n",
    "        (pl.col('log_close') - pl.col('log_close').shift(120)).over(pl.col('ticker')).alias('return_2h'),\n",
    "        (pl.col('log_close') - pl.col('log_close').shift(240)).over(pl.col('ticker')).alias('return_4h'),\n",
    "        (pl.col('log_close') - pl.col('log_close').shift(390)).over(pl.col('ticker')).alias('return_1d')\n",
    "    ])\n",
    ")"
   ],
   "metadata": {
    "collapsed": false,
    "ExecuteTime": {
     "end_time": "2024-02-07T17:08:48.361754Z",
     "start_time": "2024-02-07T17:08:48.360602Z"
    }
   },
   "id": "22b9f5fb0f4b63c7",
   "execution_count": 10
  },
  {
   "cell_type": "code",
   "outputs": [],
   "source": [
    "# Join SP500 data with the intraday data, and calculate the excess market return\n",
    "lf_intraday = (\n",
    "    lf_intraday\n",
    "    .join((lf_intraday.filter(pl.col('ticker') == 'US500.I')\n",
    "    .select([\n",
    "        pl.col('datetime').alias('datetime'),\n",
    "        pl.col('log_close').alias('mkt_log_close'),\n",
    "        pl.col('volume').alias('mkt_volume'),\n",
    "        pl.col('return_1min').alias('mkt_return_1min'),\n",
    "        pl.col('return_5min').alias('mkt_return_5min'),\n",
    "        pl.col('return_10min').alias('mkt_return_10min'),\n",
    "        pl.col('return_30min').alias('mkt_return_30min'),\n",
    "        pl.col('return_1h').alias('mkt_return_1h'),\n",
    "        pl.col('return_2h').alias('mkt_return_2h'),\n",
    "        pl.col('return_4h').alias('mkt_return_4h'),\n",
    "        pl.col('return_1d').alias('mkt_return_1d')\n",
    "    ])\n",
    "    ), on='datetime', how='left')\n",
    "    .with_columns([\n",
    "        pl.col('return_1min') - pl.col('mkt_return_1min').alias('excess_return_1min'),\n",
    "        pl.col('return_5min') - pl.col('mkt_return_5min').alias('excess_return_5min'),\n",
    "        pl.col('return_10min') - pl.col('mkt_return_10min').alias('excess_return_10min'),\n",
    "        pl.col('return_30min') - pl.col('mkt_return_30min').alias('excess_return_30min'),\n",
    "        pl.col('return_1h') - pl.col('mkt_return_1h').alias('excess_return_1h'),\n",
    "        pl.col('return_2h') - pl.col('mkt_return_2h').alias('excess_return_2h'),\n",
    "        pl.col('return_4h') - pl.col('mkt_return_4h').alias('excess_return_4h'),\n",
    "        pl.col('return_1d') - pl.col('mkt_return_1d').alias('excess_return_1d')\n",
    "    ])\n",
    ")"
   ],
   "metadata": {
    "collapsed": false,
    "ExecuteTime": {
     "end_time": "2024-02-07T17:08:49.377948Z",
     "start_time": "2024-02-07T17:08:49.375952Z"
    }
   },
   "id": "833b90b0ca10cb5",
   "execution_count": 12
  },
  {
   "cell_type": "code",
   "outputs": [
    {
     "data": {
      "text/plain": "shape: (500, 23)\n┌────────┬────────────┬────────────┬───────────┬───┬───────────┬───────────┬───────────┬───────────┐\n│ ticker ┆ date       ┆ datetime   ┆ log_close ┆ … ┆ mkt_retur ┆ mkt_retur ┆ mkt_retur ┆ mkt_retur │\n│ ---    ┆ ---        ┆ ---        ┆ ---       ┆   ┆ n_1h      ┆ n_2h      ┆ n_4h      ┆ n_1d      │\n│ str    ┆ date       ┆ datetime[μ ┆ f64       ┆   ┆ ---       ┆ ---       ┆ ---       ┆ ---       │\n│        ┆            ┆ s, Europe/ ┆           ┆   ┆ f64       ┆ f64       ┆ f64       ┆ f64       │\n│        ┆            ┆ Copenhagen ┆           ┆   ┆           ┆           ┆           ┆           │\n│        ┆            ┆ ]          ┆           ┆   ┆           ┆           ┆           ┆           │\n╞════════╪════════════╪════════════╪═══════════╪═══╪═══════════╪═══════════╪═══════════╪═══════════╡\n│ A      ┆ 2022-01-03 ┆ 2022-01-03 ┆ 5.066322  ┆ … ┆ null      ┆ null      ┆ null      ┆ null      │\n│        ┆            ┆ 14:30:00   ┆           ┆   ┆           ┆           ┆           ┆           │\n│        ┆            ┆ CET        ┆           ┆   ┆           ┆           ┆           ┆           │\n│ A      ┆ 2022-01-03 ┆ 2022-01-03 ┆ 5.064555  ┆ … ┆ null      ┆ null      ┆ null      ┆ null      │\n│        ┆            ┆ 14:31:00   ┆           ┆   ┆           ┆           ┆           ┆           │\n│        ┆            ┆ CET        ┆           ┆   ┆           ┆           ┆           ┆           │\n│ A      ┆ 2022-01-03 ┆ 2022-01-03 ┆ 5.063291  ┆ … ┆ null      ┆ null      ┆ null      ┆ null      │\n│        ┆            ┆ 14:32:00   ┆           ┆   ┆           ┆           ┆           ┆           │\n│        ┆            ┆ CET        ┆           ┆   ┆           ┆           ┆           ┆           │\n│ A      ┆ 2022-01-03 ┆ 2022-01-03 ┆ 5.061772  ┆ … ┆ null      ┆ null      ┆ null      ┆ null      │\n│        ┆            ┆ 14:33:00   ┆           ┆   ┆           ┆           ┆           ┆           │\n│        ┆            ┆ CET        ┆           ┆   ┆           ┆           ┆           ┆           │\n│ A      ┆ 2022-01-03 ┆ 2022-01-03 ┆ 5.063038  ┆ … ┆ null      ┆ null      ┆ null      ┆ null      │\n│        ┆            ┆ 14:34:00   ┆           ┆   ┆           ┆           ┆           ┆           │\n│        ┆            ┆ CET        ┆           ┆   ┆           ┆           ┆           ┆           │\n│ …      ┆ …          ┆ …          ┆ …         ┆ … ┆ …         ┆ …         ┆ …         ┆ …         │\n│ A      ┆ 2022-01-04 ┆ 2022-01-04 ┆ 5.022103  ┆ … ┆ null      ┆ null      ┆ null      ┆ null      │\n│        ┆            ┆ 16:15:00   ┆           ┆   ┆           ┆           ┆           ┆           │\n│        ┆            ┆ CET        ┆           ┆   ┆           ┆           ┆           ┆           │\n│ A      ┆ 2022-01-04 ┆ 2022-01-04 ┆ 5.022959  ┆ … ┆ null      ┆ null      ┆ null      ┆ null      │\n│        ┆            ┆ 16:16:00   ┆           ┆   ┆           ┆           ┆           ┆           │\n│        ┆            ┆ CET        ┆           ┆   ┆           ┆           ┆           ┆           │\n│ A      ┆ 2022-01-04 ┆ 2022-01-04 ┆ 5.022169  ┆ … ┆ null      ┆ null      ┆ null      ┆ null      │\n│        ┆            ┆ 16:17:00   ┆           ┆   ┆           ┆           ┆           ┆           │\n│        ┆            ┆ CET        ┆           ┆   ┆           ┆           ┆           ┆           │\n│ A      ┆ 2022-01-04 ┆ 2022-01-04 ┆ 5.022234  ┆ … ┆ null      ┆ null      ┆ null      ┆ null      │\n│        ┆            ┆ 16:18:00   ┆           ┆   ┆           ┆           ┆           ┆           │\n│        ┆            ┆ CET        ┆           ┆   ┆           ┆           ┆           ┆           │\n│ A      ┆ 2022-01-04 ┆ 2022-01-04 ┆ 5.021114  ┆ … ┆ null      ┆ null      ┆ null      ┆ null      │\n│        ┆            ┆ 16:19:00   ┆           ┆   ┆           ┆           ┆           ┆           │\n│        ┆            ┆ CET        ┆           ┆   ┆           ┆           ┆           ┆           │\n└────────┴────────────┴────────────┴───────────┴───┴───────────┴───────────┴───────────┴───────────┘",
      "text/html": "<div><style>\n.dataframe > thead > tr,\n.dataframe > tbody > tr {\n  text-align: right;\n  white-space: pre-wrap;\n}\n</style>\n<small>shape: (500, 23)</small><table border=\"1\" class=\"dataframe\"><thead><tr><th>ticker</th><th>date</th><th>datetime</th><th>log_close</th><th>volume</th><th>return_1min</th><th>return_5min</th><th>return_10min</th><th>return_30min</th><th>return_1h</th><th>return_2h</th><th>return_4h</th><th>return_1d</th><th>mkt_log_close</th><th>mkt_volume</th><th>mkt_return_1min</th><th>mkt_return_5min</th><th>mkt_return_10min</th><th>mkt_return_30min</th><th>mkt_return_1h</th><th>mkt_return_2h</th><th>mkt_return_4h</th><th>mkt_return_1d</th></tr><tr><td>str</td><td>date</td><td>datetime[μs, Europe/Copenhagen]</td><td>f64</td><td>f64</td><td>f64</td><td>f64</td><td>f64</td><td>f64</td><td>f64</td><td>f64</td><td>f64</td><td>f64</td><td>f64</td><td>f64</td><td>f64</td><td>f64</td><td>f64</td><td>f64</td><td>f64</td><td>f64</td><td>f64</td><td>f64</td></tr></thead><tbody><tr><td>&quot;A&quot;</td><td>2022-01-03</td><td>2022-01-03 14:30:00 CET</td><td>5.066322</td><td>5133.0</td><td>null</td><td>null</td><td>null</td><td>null</td><td>null</td><td>null</td><td>null</td><td>null</td><td>null</td><td>null</td><td>null</td><td>null</td><td>null</td><td>null</td><td>null</td><td>null</td><td>null</td><td>null</td></tr><tr><td>&quot;A&quot;</td><td>2022-01-03</td><td>2022-01-03 14:31:00 CET</td><td>5.064555</td><td>3131.0</td><td>null</td><td>null</td><td>null</td><td>null</td><td>null</td><td>null</td><td>null</td><td>null</td><td>null</td><td>null</td><td>null</td><td>null</td><td>null</td><td>null</td><td>null</td><td>null</td><td>null</td><td>null</td></tr><tr><td>&quot;A&quot;</td><td>2022-01-03</td><td>2022-01-03 14:32:00 CET</td><td>5.063291</td><td>6794.0</td><td>null</td><td>null</td><td>null</td><td>null</td><td>null</td><td>null</td><td>null</td><td>null</td><td>null</td><td>null</td><td>null</td><td>null</td><td>null</td><td>null</td><td>null</td><td>null</td><td>null</td><td>null</td></tr><tr><td>&quot;A&quot;</td><td>2022-01-03</td><td>2022-01-03 14:33:00 CET</td><td>5.061772</td><td>1188.0</td><td>null</td><td>null</td><td>null</td><td>null</td><td>null</td><td>null</td><td>null</td><td>null</td><td>null</td><td>null</td><td>null</td><td>null</td><td>null</td><td>null</td><td>null</td><td>null</td><td>null</td><td>null</td></tr><tr><td>&quot;A&quot;</td><td>2022-01-03</td><td>2022-01-03 14:34:00 CET</td><td>5.063038</td><td>2046.0</td><td>null</td><td>null</td><td>null</td><td>null</td><td>null</td><td>null</td><td>null</td><td>null</td><td>null</td><td>null</td><td>null</td><td>null</td><td>null</td><td>null</td><td>null</td><td>null</td><td>null</td><td>null</td></tr><tr><td>&quot;A&quot;</td><td>2022-01-03</td><td>2022-01-03 14:35:00 CET</td><td>5.060694</td><td>5267.0</td><td>null</td><td>null</td><td>null</td><td>null</td><td>null</td><td>null</td><td>null</td><td>null</td><td>null</td><td>null</td><td>null</td><td>null</td><td>null</td><td>null</td><td>null</td><td>null</td><td>null</td><td>null</td></tr><tr><td>&quot;A&quot;</td><td>2022-01-03</td><td>2022-01-03 14:36:00 CET</td><td>5.058155</td><td>4479.0</td><td>null</td><td>null</td><td>null</td><td>null</td><td>null</td><td>null</td><td>null</td><td>null</td><td>null</td><td>null</td><td>null</td><td>null</td><td>null</td><td>null</td><td>null</td><td>null</td><td>null</td><td>null</td></tr><tr><td>&quot;A&quot;</td><td>2022-01-03</td><td>2022-01-03 14:37:00 CET</td><td>5.0579</td><td>2376.0</td><td>null</td><td>null</td><td>null</td><td>null</td><td>null</td><td>null</td><td>null</td><td>null</td><td>null</td><td>null</td><td>null</td><td>null</td><td>null</td><td>null</td><td>null</td><td>null</td><td>null</td><td>null</td></tr><tr><td>&quot;A&quot;</td><td>2022-01-03</td><td>2022-01-03 14:38:00 CET</td><td>5.061075</td><td>991.0</td><td>null</td><td>null</td><td>null</td><td>null</td><td>null</td><td>null</td><td>null</td><td>null</td><td>null</td><td>null</td><td>null</td><td>null</td><td>null</td><td>null</td><td>null</td><td>null</td><td>null</td><td>null</td></tr><tr><td>&quot;A&quot;</td><td>2022-01-03</td><td>2022-01-03 14:39:00 CET</td><td>5.057074</td><td>1821.0</td><td>null</td><td>null</td><td>null</td><td>null</td><td>null</td><td>null</td><td>null</td><td>null</td><td>null</td><td>null</td><td>null</td><td>null</td><td>null</td><td>null</td><td>null</td><td>null</td><td>null</td><td>null</td></tr><tr><td>&quot;A&quot;</td><td>2022-01-03</td><td>2022-01-03 14:40:00 CET</td><td>5.052736</td><td>6803.0</td><td>null</td><td>null</td><td>null</td><td>null</td><td>null</td><td>null</td><td>null</td><td>null</td><td>null</td><td>null</td><td>null</td><td>null</td><td>null</td><td>null</td><td>null</td><td>null</td><td>null</td><td>null</td></tr><tr><td>&quot;A&quot;</td><td>2022-01-03</td><td>2022-01-03 14:41:00 CET</td><td>5.052033</td><td>5110.0</td><td>null</td><td>null</td><td>null</td><td>null</td><td>null</td><td>null</td><td>null</td><td>null</td><td>null</td><td>null</td><td>null</td><td>null</td><td>null</td><td>null</td><td>null</td><td>null</td><td>null</td><td>null</td></tr><tr><td>&hellip;</td><td>&hellip;</td><td>&hellip;</td><td>&hellip;</td><td>&hellip;</td><td>&hellip;</td><td>&hellip;</td><td>&hellip;</td><td>&hellip;</td><td>&hellip;</td><td>&hellip;</td><td>&hellip;</td><td>&hellip;</td><td>&hellip;</td><td>&hellip;</td><td>&hellip;</td><td>&hellip;</td><td>&hellip;</td><td>&hellip;</td><td>&hellip;</td><td>&hellip;</td><td>&hellip;</td><td>&hellip;</td></tr><tr><td>&quot;A&quot;</td><td>2022-01-04</td><td>2022-01-04 16:08:00 CET</td><td>5.023683</td><td>5110.0</td><td>null</td><td>null</td><td>null</td><td>null</td><td>null</td><td>null</td><td>null</td><td>null</td><td>null</td><td>null</td><td>null</td><td>null</td><td>null</td><td>null</td><td>null</td><td>null</td><td>null</td><td>null</td></tr><tr><td>&quot;A&quot;</td><td>2022-01-04</td><td>2022-01-04 16:09:00 CET</td><td>5.023749</td><td>2530.0</td><td>null</td><td>null</td><td>null</td><td>null</td><td>null</td><td>null</td><td>null</td><td>null</td><td>null</td><td>null</td><td>null</td><td>null</td><td>null</td><td>null</td><td>null</td><td>null</td><td>null</td><td>null</td></tr><tr><td>&quot;A&quot;</td><td>2022-01-04</td><td>2022-01-04 16:10:00 CET</td><td>5.024078</td><td>5157.0</td><td>null</td><td>null</td><td>null</td><td>null</td><td>null</td><td>null</td><td>null</td><td>null</td><td>null</td><td>null</td><td>null</td><td>null</td><td>null</td><td>null</td><td>null</td><td>null</td><td>null</td><td>null</td></tr><tr><td>&quot;A&quot;</td><td>2022-01-04</td><td>2022-01-04 16:11:00 CET</td><td>5.022432</td><td>8692.0</td><td>null</td><td>null</td><td>null</td><td>null</td><td>null</td><td>null</td><td>null</td><td>null</td><td>null</td><td>null</td><td>null</td><td>null</td><td>null</td><td>null</td><td>null</td><td>null</td><td>null</td><td>null</td></tr><tr><td>&quot;A&quot;</td><td>2022-01-04</td><td>2022-01-04 16:12:00 CET</td><td>5.023617</td><td>6269.0</td><td>null</td><td>null</td><td>null</td><td>null</td><td>null</td><td>null</td><td>null</td><td>null</td><td>null</td><td>null</td><td>null</td><td>null</td><td>null</td><td>null</td><td>null</td><td>null</td><td>null</td><td>null</td></tr><tr><td>&quot;A&quot;</td><td>2022-01-04</td><td>2022-01-04 16:13:00 CET</td><td>5.023288</td><td>1547.0</td><td>null</td><td>null</td><td>null</td><td>null</td><td>null</td><td>null</td><td>null</td><td>null</td><td>null</td><td>null</td><td>null</td><td>null</td><td>null</td><td>null</td><td>null</td><td>null</td><td>null</td><td>null</td></tr><tr><td>&quot;A&quot;</td><td>2022-01-04</td><td>2022-01-04 16:14:00 CET</td><td>5.023683</td><td>3647.0</td><td>null</td><td>null</td><td>null</td><td>null</td><td>null</td><td>null</td><td>null</td><td>null</td><td>null</td><td>null</td><td>null</td><td>null</td><td>null</td><td>null</td><td>null</td><td>null</td><td>null</td><td>null</td></tr><tr><td>&quot;A&quot;</td><td>2022-01-04</td><td>2022-01-04 16:15:00 CET</td><td>5.022103</td><td>11458.0</td><td>null</td><td>null</td><td>null</td><td>null</td><td>null</td><td>null</td><td>null</td><td>null</td><td>null</td><td>null</td><td>null</td><td>null</td><td>null</td><td>null</td><td>null</td><td>null</td><td>null</td><td>null</td></tr><tr><td>&quot;A&quot;</td><td>2022-01-04</td><td>2022-01-04 16:16:00 CET</td><td>5.022959</td><td>1960.0</td><td>null</td><td>null</td><td>null</td><td>null</td><td>null</td><td>null</td><td>null</td><td>null</td><td>null</td><td>null</td><td>null</td><td>null</td><td>null</td><td>null</td><td>null</td><td>null</td><td>null</td><td>null</td></tr><tr><td>&quot;A&quot;</td><td>2022-01-04</td><td>2022-01-04 16:17:00 CET</td><td>5.022169</td><td>10123.0</td><td>null</td><td>null</td><td>null</td><td>null</td><td>null</td><td>null</td><td>null</td><td>null</td><td>null</td><td>null</td><td>null</td><td>null</td><td>null</td><td>null</td><td>null</td><td>null</td><td>null</td><td>null</td></tr><tr><td>&quot;A&quot;</td><td>2022-01-04</td><td>2022-01-04 16:18:00 CET</td><td>5.022234</td><td>6642.0</td><td>null</td><td>null</td><td>null</td><td>null</td><td>null</td><td>null</td><td>null</td><td>null</td><td>null</td><td>null</td><td>null</td><td>null</td><td>null</td><td>null</td><td>null</td><td>null</td><td>null</td><td>null</td></tr><tr><td>&quot;A&quot;</td><td>2022-01-04</td><td>2022-01-04 16:19:00 CET</td><td>5.021114</td><td>11410.0</td><td>null</td><td>null</td><td>null</td><td>null</td><td>null</td><td>null</td><td>null</td><td>null</td><td>null</td><td>null</td><td>null</td><td>null</td><td>null</td><td>null</td><td>null</td><td>null</td><td>null</td><td>null</td></tr></tbody></table></div>"
     },
     "execution_count": 13,
     "metadata": {},
     "output_type": "execute_result"
    }
   ],
   "source": [
    "lf_intraday.fetch()"
   ],
   "metadata": {
    "collapsed": false,
    "ExecuteTime": {
     "end_time": "2024-02-07T17:08:50.568092Z",
     "start_time": "2024-02-07T17:08:50.405008Z"
    }
   },
   "id": "7eaf12235efdfe80",
   "execution_count": 13
  },
  {
   "cell_type": "code",
   "outputs": [],
   "source": [
    "# Subset every 60th row. This is done to reduce the size of the data for initial testing.\n",
    "lf_intraday = lf_intraday.gather_every(n=60).lazy()"
   ],
   "metadata": {
    "collapsed": false
   },
   "id": "e3333e9341bd5350",
   "execution_count": null
  },
  {
   "cell_type": "markdown",
   "source": [
    "The following cell transforms the intraday data to daily data. It groups the data by date and ticker, and sums the volume to get the daily volume. It also calculates the daily return for each ticker."
   ],
   "metadata": {
    "collapsed": false
   },
   "id": "b56717db45072f42"
  },
  {
   "cell_type": "code",
   "outputs": [],
   "source": [
    " # Group by date and ticker and sum volumne to get daily volume\n",
    "lf_daily = (\n",
    "    lf_intraday\n",
    "    .group_by(['ticker', 'date'])\n",
    "    .agg(\n",
    "        pl.last('datetime').alias('datetime'),\n",
    "        pl.last('log_close').cast(pl.Float64),\n",
    "        pl.sum('volume').cast(pl.Float64).alias('volume') # Sum volume to get daily volume\n",
    "    )\n",
    "    .group_by(['ticker', 'date']).last() # Select the last row in each group\n",
    "    .sort(['ticker', 'date'])\n",
    "    .select([\n",
    "        'ticker',\n",
    "        'date',\n",
    "        'datetime',\n",
    "        'log_close',\n",
    "        'volume',\n",
    "        (pl.col('log_close') - pl.col('log_close').shift(1)).over(pl.col('ticker')).alias('return_1d')\n",
    "    ])\n",
    ")"
   ],
   "metadata": {
    "collapsed": false
   },
   "id": "b2628096e21664a3",
   "execution_count": null
  },
  {
   "cell_type": "code",
   "outputs": [],
   "source": [
    "lf_daily.fetch(n_rows=10000)"
   ],
   "metadata": {
    "collapsed": false
   },
   "id": "faa10d03ecdf56c0",
   "execution_count": null
  },
  {
   "cell_type": "code",
   "outputs": [],
   "source": [
    "df_aapl = lf_daily.filter(pl.col('ticker') == 'AAPL').collect().to_pandas()"
   ],
   "metadata": {
    "collapsed": false
   },
   "id": "99595740e6193968",
   "execution_count": null
  },
  {
   "cell_type": "code",
   "outputs": [],
   "source": [
    "# Plot time series of StockClose\n",
    "plt.figure(figsize=(15,10))\n",
    "# Add second y-axis. Left is log price and right is return\n",
    "ax = sns.lineplot(x='date', y='log_close', data=df_aapl, color='cornflowerblue')\n",
    "ax2 = ax.twinx()\n",
    "sns.lineplot(x='date', y='volume', data=df_aapl, color='red', ax=ax2, alpha=0.5)\n",
    "# Disable grid\n",
    "ax.grid(False)\n",
    "ax2.grid(False)\n",
    "ax.set_title('AAPL Stock Price and Volume')\n",
    "ax.set_ylabel('Log Price')\n",
    "ax2.set_ylabel('Volume')\n",
    "ax.set_xlabel('Date')\n",
    "upload(plt, \"Master's Thesis\", 'figures/aapl_test.png')"
   ],
   "metadata": {
    "collapsed": false
   },
   "id": "20adffb2d6d12d35",
   "execution_count": null
  },
  {
   "cell_type": "code",
   "outputs": [],
   "source": [],
   "metadata": {
    "collapsed": false
   },
   "id": "92d78d0ceb2edc8b"
  }
 ],
 "metadata": {
  "kernelspec": {
   "display_name": "Python 3",
   "language": "python",
   "name": "python3"
  },
  "language_info": {
   "codemirror_mode": {
    "name": "ipython",
    "version": 2
   },
   "file_extension": ".py",
   "mimetype": "text/x-python",
   "name": "python",
   "nbconvert_exporter": "python",
   "pygments_lexer": "ipython2",
   "version": "2.7.6"
  }
 },
 "nbformat": 4,
 "nbformat_minor": 5
}
