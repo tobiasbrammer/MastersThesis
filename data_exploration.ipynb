{
 "cells": [
  {
   "cell_type": "markdown",
   "source": [],
   "metadata": {
    "collapsed": false
   },
   "id": "941df59c7c1a1c2a"
  },
  {
   "cell_type": "code",
   "execution_count": null,
   "id": "initial_id",
   "metadata": {
    "collapsed": true
   },
   "outputs": [],
   "source": [
    "import polars as pl\n",
    "import matplotlib.pyplot as plt\n",
    "import seaborn as sns\n",
    "from upload_overleaf.upload import upload\n",
    "import tensorflow as tf"
   ]
  },
  {
   "cell_type": "code",
   "outputs": [],
   "source": [
    "print(f\"TensorFlow has access to the following devices:\\n{tf.config.list_physical_devices()}\")"
   ],
   "metadata": {
    "collapsed": false
   },
   "id": "c741018e3ed6edf1",
   "execution_count": null
  },
  {
   "cell_type": "code",
   "outputs": [],
   "source": [
    "lf_prices = (\n",
    "    pl.scan_parquet(\"prices.parquet\")\n",
    "    .with_columns([\n",
    "        pl.col(\"ticker\"),\n",
    "        pl.col(\"datetime\").alias(\"date\"),\n",
    "        pl.col(\"StockOpen\").log().alias(\"log_open\"),\n",
    "        pl.col(\"StockHigh\").log().alias(\"log_high\"),\n",
    "        pl.col(\"StockLow\").log().alias(\"log_low\"),\n",
    "        pl.col(\"StockClose\").log().alias(\"log_close\"),\n",
    "        pl.col(\"StockVol\").alias(\"volume\")\n",
    "    ])\n",
    "    .sort([\"ticker\", \"datetime\"])\n",
    ")"
   ],
   "metadata": {
    "collapsed": false
   },
   "id": "e37939efc3e52551",
   "execution_count": null
  },
  {
   "cell_type": "code",
   "outputs": [],
   "source": [
    "# Calculate the log return within each ticker partition\n",
    "lf_intraday = (\n",
    "    lf_prices\n",
    "    .select([\n",
    "        \"ticker\",\n",
    "        \"date\",\n",
    "        \"log_open\",\n",
    "        \"log_close\",\n",
    "        \"log_high\",\n",
    "        \"log_low\",\n",
    "        \"volume\",\n",
    "        (pl.col(\"log_close\") - pl.col(\"log_close\").shift(1)).over(pl.col(\"ticker\")).alias(\"return\")\n",
    "    ])\n",
    ")"
   ],
   "metadata": {
    "collapsed": false
   },
   "id": "22b9f5fb0f4b63c7",
   "execution_count": null
  },
  {
   "cell_type": "code",
   "outputs": [],
   "source": [
    "# Print schema of the LazyFrame.\n",
    "print(lf_intraday.schema)"
   ],
   "metadata": {
    "collapsed": false
   },
   "id": "2a2ddc8c33d3889b",
   "execution_count": null
  },
  {
   "cell_type": "code",
   "outputs": [],
   "source": [
    "# Print number of rows in the LazyFrame.\n",
    "print(lf_intraday\n",
    "    .count()\n",
    "    .collect()\n",
    "    .to_pandas()\n",
    "    .iloc[0, 0]\n",
    ")"
   ],
   "metadata": {
    "collapsed": false
   },
   "id": "a3b7e2fb50311361",
   "execution_count": null
  },
  {
   "cell_type": "code",
   "outputs": [],
   "source": [
    "# Group by date and ticker and sum StockVol to get daily volume\n",
    "lf_dvol = (\n",
    "    lf_prices\n",
    "    .group_by([\"ticker\", \"date\"])\n",
    "    .agg(\n",
    "        pl.last(\"datetime\").alias(\"datetime\"),\n",
    "        pl.sum(\"volume\").cast(pl.Float64).alias(\"daily_volume\")\n",
    "    )\n",
    "    # Only select last observation of each group\n",
    "    .select([\n",
    "        \"ticker\",\n",
    "        \"date\",\n",
    "        \"datetime\",\n",
    "        \"daily_volume\"\n",
    "    ])\n",
    ")"
   ],
   "metadata": {
    "collapsed": false
   },
   "id": "27234c9c1aa3f8ee",
   "execution_count": null
  },
  {
   "cell_type": "code",
   "outputs": [],
   "source": [
    "print(lf_dvol.schema)"
   ],
   "metadata": {
    "collapsed": false
   },
   "id": "72c6cf838486e92d",
   "execution_count": null
  },
  {
   "cell_type": "code",
   "outputs": [],
   "source": [
    "# Print number of rows in the LazyFrame.\n",
    "print(lf_dvol\n",
    "      .count()\n",
    "      .collect()\n",
    "      .to_pandas()\n",
    "      .iloc[0, 0]\n",
    "      )"
   ],
   "metadata": {
    "collapsed": false
   },
   "id": "b06d0c3f0c578b1c",
   "execution_count": null
  },
  {
   "cell_type": "code",
   "outputs": [],
   "source": [
    "# Group by date and ticker and sum StockVol to get daily volume\n",
    "lf_last = (\n",
    "    lf_prices\n",
    "    .group_by([\"ticker\", \"date\"])\n",
    "    .agg(\n",
    "        pl.last(\"datetime\").alias(\"datetime\"),\n",
    "        pl.last(\"log_open\").cast(pl.Float64),\n",
    "        pl.last(\"log_close\").cast(pl.Float64),\n",
    "        pl.last(\"log_high\").cast(pl.Float64),\n",
    "        pl.last(\"log_low\").cast(pl.Float64)\n",
    "    )\n",
    ")"
   ],
   "metadata": {
    "collapsed": false
   },
   "id": "b2628096e21664a3",
   "execution_count": null
  },
  {
   "cell_type": "code",
   "outputs": [],
   "source": [
    "print(lf_last.schema)"
   ],
   "metadata": {
    "collapsed": false
   },
   "id": "1e3c693d1a42170e",
   "execution_count": null
  },
  {
   "cell_type": "code",
   "outputs": [],
   "source": [
    "# Print number of rows in the LazyFrame.\n",
    "print(lf_last\n",
    "      .count()\n",
    "      .collect()\n",
    "      .to_pandas()\n",
    "      .iloc[0, 0]\n",
    "      )"
   ],
   "metadata": {
    "collapsed": false
   },
   "id": "bec039b80bcc3ff6"
  },
  {
   "cell_type": "code",
   "outputs": [],
   "source": [
    "df_last = lf_last.fetch(n_rows=2000)\n",
    "df_dvol = lf_dvol.fetch(n_rows=2000)"
   ],
   "metadata": {
    "collapsed": false
   },
   "id": "d17fcde65d6e3f9f",
   "execution_count": null
  },
  {
   "cell_type": "code",
   "outputs": [],
   "source": [
    "\n",
    "# Only keep rows with time 20:59:00\n",
    "lf_joined = lf_last.join(\n",
    "    lf_dvol, on=[\"ticker\", \"date\"]\n",
    ")\n",
    "\n",
    "# Clear LazyFrame\n",
    "#del lf_last, lf_dvol"
   ],
   "metadata": {
    "collapsed": false
   },
   "id": "82c841271d18d054",
   "execution_count": null
  },
  {
   "cell_type": "code",
   "outputs": [],
   "source": [
    "df_daily = lf_joined.fetch()"
   ],
   "metadata": {
    "collapsed": false
   },
   "id": "bb6644da9516c34b",
   "execution_count": null
  },
  {
   "cell_type": "code",
   "outputs": [],
   "source": [
    "df_intraday = lf_intraday.fetch()"
   ],
   "metadata": {
    "collapsed": false
   },
   "id": "6df59f03cdf92910",
   "execution_count": null
  },
  {
   "cell_type": "code",
   "outputs": [],
   "source": [
    "\n",
    "# Calculate the log return within each ticker partition\n",
    "lf_daily = (\n",
    "    lf_daily\n",
    "    .select([\n",
    "        \"ticker\",\n",
    "        \"date\",\n",
    "        \"log_open\",\n",
    "        \"log_close\",\n",
    "        \"log_high\",\n",
    "        \"log_low\",\n",
    "        \"volume\",\n",
    "        (pl.col(\"log_close\") - pl.col(\"log_close\").shift(1)).over(pl.col(\"ticker\")).alias(\"return\")\n",
    "    ])\n",
    ")"
   ],
   "metadata": {
    "collapsed": false
   },
   "id": "e418aff158896ddb",
   "execution_count": null
  },
  {
   "cell_type": "code",
   "outputs": [],
   "source": [
    "schema = lf_intraday.schema"
   ],
   "metadata": {
    "collapsed": false
   },
   "id": "2729509e2a08e0b5",
   "execution_count": null
  },
  {
   "cell_type": "code",
   "outputs": [],
   "source": [
    "unique_tickers = (\n",
    "    lf_daily.select(\"ticker\")\n",
    "    .unique()\n",
    "    .collect()\n",
    "    .to_pandas()[\"ticker\"]\n",
    "    .tolist()\n",
    ")\n",
    "\n",
    "# Display the list of unique tickers\n",
    "print(unique_tickers)"
   ],
   "metadata": {
    "collapsed": false
   },
   "id": "26a71f683ed75ad9",
   "execution_count": null
  },
  {
   "cell_type": "code",
   "outputs": [],
   "source": [
    "df_aapl = lf_daily.filter(pl.col(\"ticker\") == \"AAPL\").collect().to_pandas()"
   ],
   "metadata": {
    "collapsed": false
   },
   "id": "99595740e6193968",
   "execution_count": null
  },
  {
   "cell_type": "code",
   "outputs": [],
   "source": [
    "# Plot time series of StockClose\n",
    "plt.figure(figsize=(15,10))\n",
    "# Add second y-axis. Left is log price and right is return\n",
    "ax = sns.lineplot(x=\"date\", y=\"log_close\", data=df_aapl, color=\"cornflowerblue\")\n",
    "ax2 = ax.twinx()\n",
    "sns.lineplot(x=\"date\", y=\"return\", data=df_aapl, color=\"red\", ax=ax2, alpha=0.5)\n",
    "# Disable grid\n",
    "ax.grid(False)\n",
    "ax2.grid(False)\n",
    "ax.set_title(\"AAPL Stock Price and Return\")\n",
    "ax.set_ylabel(\"Log Price\")\n",
    "ax2.set_ylabel(\"Return\")\n",
    "ax.set_xlabel(\"Date\")\n",
    "plt.show()"
   ],
   "metadata": {
    "collapsed": false
   },
   "id": "20adffb2d6d12d35",
   "execution_count": null
  },
  {
   "cell_type": "code",
   "outputs": [],
   "source": [
    "upload(plt, \"Master's Thesis\", 'figures/aapl_test.png')"
   ],
   "metadata": {
    "collapsed": false
   },
   "id": "a95199c5775b584d",
   "execution_count": null
  },
  {
   "cell_type": "code",
   "outputs": [],
   "source": [
    "# Plot time series of log_close for all tickers\n",
    "plt.figure(figsize=(25,20))\n",
    "ax = sns.lineplot(x=\"date\", y=\"log_close\", hue=\"ticker\", data=lf_daily.collect().to_pandas(), palette=\"tab10\")\n",
    "ax.set_title(\"Stock Price for All Tickers\")\n",
    "ax.set_ylabel(\"Log Price\")\n",
    "ax.set_xlabel(\"Date\")\n",
    "plt.show()\n"
   ],
   "metadata": {
    "collapsed": false
   },
   "id": "277f76dfe06e8889",
   "execution_count": null
  },
  {
   "cell_type": "code",
   "outputs": [],
   "source": [],
   "metadata": {
    "collapsed": false
   },
   "id": "92d78d0ceb2edc8b"
  }
 ],
 "metadata": {
  "kernelspec": {
   "display_name": "Python 3",
   "language": "python",
   "name": "python3"
  },
  "language_info": {
   "codemirror_mode": {
    "name": "ipython",
    "version": 2
   },
   "file_extension": ".py",
   "mimetype": "text/x-python",
   "name": "python",
   "nbconvert_exporter": "python",
   "pygments_lexer": "ipython2",
   "version": "2.7.6"
  }
 },
 "nbformat": 4,
 "nbformat_minor": 5
}
