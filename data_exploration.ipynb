{
 "cells": [
  {
   "cell_type": "markdown",
   "source": [],
   "metadata": {
    "collapsed": false
   },
   "id": "941df59c7c1a1c2a"
  },
  {
   "cell_type": "code",
   "execution_count": null,
   "id": "initial_id",
   "metadata": {
    "collapsed": true
   },
   "outputs": [],
   "source": [
    "import polars as pl\n",
    "import matplotlib.pyplot as plt\n",
    "import seaborn as sns\n",
    "from upload_overleaf.upload import upload\n",
    "import tensorflow as tf"
   ]
  },
  {
   "cell_type": "code",
   "outputs": [],
   "source": [
    "print(f'TensorFlow has access to the following devices:\\n{tf.config.list_physical_devices()}')"
   ],
   "metadata": {
    "collapsed": false
   },
   "id": "c741018e3ed6edf1",
   "execution_count": null
  },
  {
   "cell_type": "markdown",
   "source": [
    "The following cell reads the parquet files created by raw2parquet.py. \n",
    "\n",
    "It joins the prices and coacs tables on the ticker and date columns. It also creates a new column called OldNoOfStocks, which is the number of stocks before the stock split/dividend. If there is not a match in the coacs table, the OldNoOfStocks is set to 1. The StockOpen, StockHigh, StockLow, and StockClose columns are multiplied with OldNoOfStocks to get the adjusted price.\n",
    "\n",
    "It applies the log transformation to the adjusted prices, and the calculates the log return for each ticker. The log return is calculated for the following time intervals: 1, 5, 10, 30, 60, 120, 240, and 390 minutes. "
   ],
   "metadata": {
    "collapsed": false
   },
   "id": "589b20038a8ad9de"
  },
  {
   "cell_type": "code",
   "outputs": [],
   "source": [
    "lf_intraday = (\n",
    "    pl.scan_parquet('prices.parquet')\n",
    "    .join(pl.scan_parquet('coacs.parquet').select(['ticker','date','OldNoOfStocks']), on=['ticker', 'date'], how='left')\n",
    "    # If there is not a match in the coacs table, the OldNoOfStocks is set to 1.\n",
    "    .with_columns(pl.when(pl.col('OldNoOfStocks').is_null()).then(1).otherwise(pl.col('OldNoOfStocks')).alias('OldNoOfStocks'))\n",
    "    # Multiply StockOpen, StockHigh, StockLow, and StockClose with OldNoOfStocks to get the adjusted price\n",
    "    .with_columns([\n",
    "        pl.col('StockClose') * pl.col('OldNoOfStocks').alias('StockClose')\n",
    "    ])\n",
    "    .with_columns([\n",
    "        pl.col('ticker'),\n",
    "        pl.col('date').alias('date'),\n",
    "        pl.col('datetime').alias('datetime'),\n",
    "        pl.col('StockClose').log().alias('log_close'),\n",
    "        pl.col('StockVol').alias('volume')\n",
    "    ])\n",
    "    .sort(['ticker', 'datetime'])\n",
    "    .select([\n",
    "        'ticker',\n",
    "        'date',\n",
    "        'datetime',\n",
    "        'log_close',\n",
    "        'volume',\n",
    "        (pl.col('log_close') - pl.col('log_close').shift(1)).over(pl.col('ticker')).alias('return_1min'),\n",
    "        (pl.col('log_close') - pl.col('log_close').shift(5)).over(pl.col('ticker')).alias('return_5min'),\n",
    "        (pl.col('log_close') - pl.col('log_close').shift(10)).over(pl.col('ticker')).alias('return_10min'),\n",
    "        (pl.col('log_close') - pl.col('log_close').shift(30)).over(pl.col('ticker')).alias('return_30min'),\n",
    "        (pl.col('log_close') - pl.col('log_close').shift(60)).over(pl.col('ticker')).alias('return_1h'),\n",
    "        (pl.col('log_close') - pl.col('log_close').shift(120)).over(pl.col('ticker')).alias('return_2h'),\n",
    "        (pl.col('log_close') - pl.col('log_close').shift(240)).over(pl.col('ticker')).alias('return_4h'),\n",
    "        (pl.col('log_close') - pl.col('log_close').shift(390)).over(pl.col('ticker')).alias('return_1d')\n",
    "    ])\n",
    ")"
   ],
   "metadata": {
    "collapsed": false
   },
   "id": "22b9f5fb0f4b63c7",
   "execution_count": null
  },
  {
   "cell_type": "code",
   "outputs": [],
   "source": [
    "lf_intraday.fetch()"
   ],
   "metadata": {
    "collapsed": false
   },
   "id": "7eaf12235efdfe80",
   "execution_count": null
  },
  {
   "cell_type": "code",
   "outputs": [],
   "source": [
    "# Subset every 60th row. This is done to reduce the size of the data for initial testing.\n",
    "lf_intraday = lf_intraday.gather_every(n=60).lazy()"
   ],
   "metadata": {
    "collapsed": false
   },
   "id": "e3333e9341bd5350",
   "execution_count": null
  },
  {
   "cell_type": "markdown",
   "source": [
    "The following cell transforms the intraday data to daily data. It groups the data by date and ticker, and sums the volume to get the daily volume. It also calculates the daily return for each ticker."
   ],
   "metadata": {
    "collapsed": false
   },
   "id": "b56717db45072f42"
  },
  {
   "cell_type": "code",
   "outputs": [],
   "source": [
    "# Group by date and ticker and sum volumne to get daily volume\n",
    "lf_daily = (\n",
    "    lf_intraday\n",
    "    .group_by(['ticker', 'date'])\n",
    "    .agg(\n",
    "        pl.last('datetime').alias('datetime'),\n",
    "        pl.last('log_close').cast(pl.Float64),\n",
    "        pl.sum('volume').cast(pl.Float64).alias('volume') # Sum volume to get daily volume\n",
    "    )\n",
    "    .group_by(['ticker', 'date']).last() # Select the last row in each group\n",
    "    .sort(['ticker', 'date'])\n",
    "    .select([\n",
    "        'ticker',\n",
    "        'date',\n",
    "        'datetime',\n",
    "        'log_close',\n",
    "        'volume',\n",
    "        (pl.col('log_close') - pl.col('log_close').shift(1)).over(pl.col('ticker')).alias('return_1d')\n",
    "    ])\n",
    ")"
   ],
   "metadata": {
    "collapsed": false
   },
   "id": "b2628096e21664a3",
   "execution_count": null
  },
  {
   "cell_type": "code",
   "outputs": [],
   "source": [
    "lf_daily.fetch(n_rows=10000)"
   ],
   "metadata": {
    "collapsed": false
   },
   "id": "faa10d03ecdf56c0",
   "execution_count": null
  },
  {
   "cell_type": "code",
   "outputs": [],
   "source": [
    "df_aapl = lf_daily.filter(pl.col('ticker') == 'AAPL').collect().to_pandas()"
   ],
   "metadata": {
    "collapsed": false
   },
   "id": "99595740e6193968",
   "execution_count": null
  },
  {
   "cell_type": "code",
   "outputs": [],
   "source": [
    "# Plot time series of StockClose\n",
    "plt.figure(figsize=(15,10))\n",
    "# Add second y-axis. Left is log price and right is return\n",
    "ax = sns.lineplot(x='date', y='log_close', data=df_aapl, color='cornflowerblue')\n",
    "ax2 = ax.twinx()\n",
    "sns.lineplot(x='date', y='volume', data=df_aapl, color='red', ax=ax2, alpha=0.5)\n",
    "# Disable grid\n",
    "ax.grid(False)\n",
    "ax2.grid(False)\n",
    "ax.set_title('AAPL Stock Price and Volume')\n",
    "ax.set_ylabel('Log Price')\n",
    "ax2.set_ylabel('Volume')\n",
    "ax.set_xlabel('Date')\n",
    "upload(plt, \"Master's Thesis\", 'figures/aapl_test.png')"
   ],
   "metadata": {
    "collapsed": false
   },
   "id": "20adffb2d6d12d35",
   "execution_count": null
  },
  {
   "cell_type": "code",
   "outputs": [],
   "source": [],
   "metadata": {
    "collapsed": false
   },
   "id": "92d78d0ceb2edc8b"
  }
 ],
 "metadata": {
  "kernelspec": {
   "display_name": "Python 3",
   "language": "python",
   "name": "python3"
  },
  "language_info": {
   "codemirror_mode": {
    "name": "ipython",
    "version": 2
   },
   "file_extension": ".py",
   "mimetype": "text/x-python",
   "name": "python",
   "nbconvert_exporter": "python",
   "pygments_lexer": "ipython2",
   "version": "2.7.6"
  }
 },
 "nbformat": 4,
 "nbformat_minor": 5
}
