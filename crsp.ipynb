{
 "cells": [
  {
   "cell_type": "code",
   "outputs": [],
   "source": [
    "import pandas as pd\n",
    "import numpy as np\n",
    "import wrds_function\n",
    "import yfinance as yf\n",
    "from pandas.tseries.offsets import MonthEnd\n",
    "# Disable future warnings\n",
    "\n",
    "pd.set_option('future.no_silent_downcasting', True)"
   ],
   "metadata": {
    "collapsed": false,
    "ExecuteTime": {
     "end_time": "2024-03-06T19:54:09.292658Z",
     "start_time": "2024-03-06T19:54:09.260850Z"
    }
   },
   "id": "7916a4d8813219d9",
   "execution_count": 94
  },
  {
   "cell_type": "code",
   "outputs": [],
   "source": [
    "start_date = \"1997-12-31\"\n",
    "end_date = \"2024-01-01\""
   ],
   "metadata": {
    "collapsed": false,
    "ExecuteTime": {
     "end_time": "2024-03-06T19:54:09.300198Z",
     "start_time": "2024-03-06T19:54:09.297617Z"
    }
   },
   "id": "bc4c7e088ee26223",
   "execution_count": 95
  },
  {
   "cell_type": "code",
   "outputs": [
    {
     "name": "stdout",
     "output_type": "stream",
     "text": [
      "Loading library list...\n",
      "Done\n"
     ]
    },
    {
     "name": "stderr",
     "output_type": "stream",
     "text": [
      "/Users/tobiasbrammer/Desktop/MastersThesis/venv/lib/python3.11/site-packages/yfinance/utils.py:775: FutureWarning: The 'unit' keyword in TimedeltaIndex construction is deprecated and will be removed in a future version. Use pd.to_timedelta instead.\n",
      "  df.index += _pd.TimedeltaIndex(dst_error_hours, 'h')\n",
      "[*********************100%%**********************]  1 of 1 completed\n"
     ]
    }
   ],
   "source": [
    "wrds_function.get_wrds(start_date, end_date)"
   ],
   "metadata": {
    "collapsed": false,
    "is_executing": true,
    "ExecuteTime": {
     "start_time": "2024-03-06T19:54:09.302189Z"
    }
   },
   "id": "e859c09c4c3d881b",
   "execution_count": null
  },
  {
   "cell_type": "code",
   "outputs": [],
   "source": [
    "df = pd.read_parquet('factor_outputs/fundamentals.parquet')\n",
    "# Replace na with 0\n",
    "df = df.fillna(0)"
   ],
   "metadata": {
    "collapsed": false,
    "is_executing": true
   },
   "id": "649ffc5ce7aeb359",
   "execution_count": null
  },
  {
   "cell_type": "code",
   "outputs": [],
   "source": [
    "# Prerequisites for some of the variables. These are not listed in the original order of Chen et al. (2022), but are necessary for the calculation of some of the variables.\n",
    "fundamentals = pd.DataFrame()\n",
    "fundamentals['ticker'] = df['tic']\n",
    "fundamentals['date'] = df['rdq']\n",
    "fundamentals['noa'] = ((df['atq'] - df['cheq'] - df['ivaoq']) - (\n",
    "        df['atq'] - df['dlcq'] - df['dlttq'] - df['mibq'] - df['pstkq'] - df['ceqq']))\n",
    "fundamentals['prc'] = df['p']\n",
    "fundamentals['shrout'] = df['tso']\n",
    "# fundamentals['lme'] = df['lme'] # Not available yet..."
   ],
   "metadata": {
    "collapsed": false,
    "is_executing": true
   },
   "id": "e245d6f580c39d4f",
   "execution_count": null
  },
  {
   "cell_type": "code",
   "outputs": [],
   "source": [
    "fundamentals['a2me'] = df['atq'] / (df['tso'] * df['p'])\n",
    "fundamentals['ac'] = (df['actq'] - df['cheq'] - df['lctq'] - df['txpq']) / (\n",
    "        df['be'] / (fundamentals['prc'] * fundamentals['prc']))\n",
    "fundamentals['at'] = df['atq']\n",
    "fundamentals['ato'] = df['saleq'] / fundamentals['noa']\n",
    "fundamentals['beme'] = df['be'] / (fundamentals['prc'] * fundamentals['shrout'])\n",
    "# fundamentals['beta'] = df['beta'] # Not available yet...\n",
    "fundamentals['c'] = df['cheq'] / df['atq']\n",
    "fundamentals['cf'] = (df['niq'] + df['dpq']) / df['atq']\n",
    "fundamentals['cf2p'] = (df['ibq'] + df['dpq'] + df['txdbq']) / (fundamentals['prc'] * fundamentals['prc'])\n",
    "fundamentals['cto'] = df['saleq'] / df['atq']\n",
    "fundamentals['d2a'] = df['dpq'] / df['atq']\n",
    "# fundamentals['d2p'] = df['divamty'] / df['lme']\n",
    "fundamentals['dpi2a'] = (df['ppegtq'] + df['invtq']) / df['atq']\n",
    "fundamentals['e2p'] = df['niq'] / fundamentals['prc']\n",
    "fundamentals['fc2y'] = (df['xsgaq'] + df['xrdq']) / df['saleq']\n",
    "# fundamentals['IdioVol']  Standard deviation of the residuals from aregression of excess returns on the Fama and French three-factor model. Not available yet...\n",
    "# fundamentals['investment'] = (df['atq'].shift(8) - df['atq'].shift(4)) / df['atq'].shift(8)\n",
    "fundamentals['lev'] = (df['dlttq'] + df['dlcq'] ) / (df['dlttq'] + df['dlcq'] + df['seqq'])\n",
    "fundamentals['lme'] = df['me'].shift(1)\n",
    "# fundamentals['lt_rev'] \"Cumulative return from 60 months before the return prediction to 13 months before.\"\n",
    "fundamentals['lturnover'] =  df['vol'].shift(1)\n",
    "# fundamentals['lturnover'] Coefficient of the market excess return from the regression on excess returns in the past 60 months (24 months minimum).\n",
    "fundamentals['ni'] = np.log(1+ df['cshoq'].shift(4)*df['ajexq'].shift(4)) - np.log(1+df['cshoq'].shift(8)*df['ajexq'].shift(8))\n",
    "fundamentals['oa'] = (df['actq'] - df['cheq'] - df['lctq'] - df['txpq'] - df['dpq']) / df['atq'].shift(4)\n",
    "fundamentals['ol'] = (df['ltq'] - df['dlcq'] - df['dlttq']) / df['atq'].shift(4)\n",
    "fundamentals['op'] = (df['saleq'] - df['cogsq'] - df['xsgaq'] - df['xintq'] - df['txditcq']) / df['atq'].shift(4)\n",
    "fundamentals['pcm'] = (df['saleq'] - df['cogsq']) / df['saleq']\n",
    "fundamentals['pm'] = df['oiadpq'] / df['saleq']\n",
    "fundamentals['prof'] = (df['saleq'] - df['cogsq']) / df['be']\n",
    "fundamentals['q'] = (df['atq'] + df['me'] - df['ceqq'] - df['txdbq']) / df['atq']\n",
    "# fundamentals['r2_1'] = df['laglogret']\n",
    "fundamentals['r12_2'] = df['mom']\n",
    "fundamentals['rna'] = df['oiadpq'] / fundamentals['noa']\n",
    "fundamentals['roa'] = df['ibq'] / df['atq']\n",
    "fundamentals['roe'] = df['ibq'] / df['be']\n",
    "fundamentals['s2p'] = df['saleq'] / (fundamentals['prc'] * fundamentals['shrout'])\n",
    "fundamentals['sga2s'] = df['xsgaq'] / df['saleq']\n",
    "\n",
    "fundamentals.fillna(0, inplace=True)\n"
   ],
   "metadata": {
    "collapsed": false,
    "is_executing": true
   },
   "id": "20d34d3ddc369fe2",
   "execution_count": null
  },
  {
   "cell_type": "code",
   "outputs": [],
   "source": [
    "fundamentals.head()"
   ],
   "metadata": {
    "collapsed": false,
    "is_executing": true
   },
   "id": "5e4c037e9e0b8c37",
   "execution_count": null
  },
  {
   "cell_type": "code",
   "outputs": [],
   "source": [
    "fundamentals.to_parquet('factor_outputs/fundamentals_factors.parquet')"
   ],
   "metadata": {
    "collapsed": false,
    "is_executing": true
   },
   "id": "93b9eb84558cd5d0",
   "execution_count": null
  }
 ],
 "metadata": {
  "kernelspec": {
   "display_name": "Python 3",
   "language": "python",
   "name": "python3"
  },
  "language_info": {
   "codemirror_mode": {
    "name": "ipython",
    "version": 2
   },
   "file_extension": ".py",
   "mimetype": "text/x-python",
   "name": "python",
   "nbconvert_exporter": "python",
   "pygments_lexer": "ipython2",
   "version": "2.7.6"
  }
 },
 "nbformat": 4,
 "nbformat_minor": 5
}
